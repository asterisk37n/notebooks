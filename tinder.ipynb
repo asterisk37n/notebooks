{
 "cells": [
  {
   "cell_type": "markdown",
   "metadata": {
    "collapsed": true
   },
   "source": [
    "# Tinder automated like\n",
    "This app allows you to send Likes on tinder automatically.\n",
    "\n",
    "facebook_token, which expires almost in an hour, can be got in the url after pusshing OK button in https://www.facebook.com/dialog/oauth?client_id=464891386855067&redirect_uri=fbconnect://success&scope=basic_info%2Cemail%2Cpublic_profile%2Cuser_about_me%2Cuser_activities%2Cuser_birthday%2Cuser_education_history%2Cuser_friends%2Cuser_interests%2Cuser_likes%2Cuser_location%2Cuser_photos%2Cuser_relationship_details&response_type=token&__mref=message\n",
    "\n",
    "facebook_id can be found from http://findmyfbid.com"
   ]
  },
  {
   "cell_type": "code",
   "execution_count": null,
   "metadata": {
    "collapsed": false
   },
   "outputs": [],
   "source": [
    "import pynder\n",
    "import datetime\n",
    "import sqlite3\n",
    "import time\n",
    "import os\n",
    "import json\n",
    "import getpass\n",
    "import sys"
   ]
  },
  {
   "cell_type": "code",
   "execution_count": null,
   "metadata": {
    "collapsed": false
   },
   "outputs": [],
   "source": [
    "# copied from  https://github.com/philipperemy/Deep-Learning-Tinder/blob/master/tinder_token.py\n",
    "\n",
    "import re\n",
    "import robobrowser\n",
    "import requests\n",
    "\n",
    "MOBILE_USER_AGENT = \"Mozilla/5.0 (Linux; U; en-gb; KFTHWI Build/JDQ39) AppleWebKit/535.19 (KHTML, like Gecko) Silk/3.16 Safari/535.19\"\n",
    "FB_AUTH = \"https://www.facebook.com/v2.6/dialog/oauth?redirect_uri=fb464891386855067%3A%2F%2Fauthorize%2F&display=touch&state=%7B%22challenge%22%3A%22IUUkEUqIGud332lfu%252BMJhxL4Wlc%253D%22%2C%220_auth_logger_id%22%3A%2230F06532-A1B9-4B10-BB28-B29956C71AB1%22%2C%22com.facebook.sdk_client_state%22%3Atrue%2C%223_method%22%3A%22sfvc_auth%22%7D&scope=user_birthday%2Cuser_photos%2Cuser_education_history%2Cemail%2Cuser_relationship_details%2Cuser_friends%2Cuser_work_history%2Cuser_likes&response_type=token%2Csigned_request&default_audience=friends&return_scopes=true&auth_type=rerequest&client_id=464891386855067&ret=login&sdk=ios&logger_id=30F06532-A1B9-4B10-BB28-B29956C71AB1&ext=1470840777&hash=AeZqkIcf-NEW6vBd\"\n",
    "\n",
    "def get_fb_access_token(email, password):\n",
    "    s = robobrowser.RoboBrowser(user_agent=MOBILE_USER_AGENT, parser=\"lxml\")\n",
    "    s.open(FB_AUTH)\n",
    "    f = s.get_form()\n",
    "    f[\"pass\"] = password\n",
    "    f[\"email\"] = email\n",
    "    s.submit_form(f)\n",
    "    f = s.get_form()\n",
    "    try:\n",
    "        s.submit_form(f, submit=f.submit_fields['__CONFIRM__'])\n",
    "        access_token = re.search(r\"access_token=([\\w\\d]+)\", s.response.content.decode()).groups()[0]\n",
    "        return access_token\n",
    "    except Exception as ex:\n",
    "        print(\"access token could not be retrieved. Check your username and password.\")\n",
    "        print(\"Official error: %s\" % ex)\n",
    "        return {\"error\": \"access token could not be retrieved. Check your username and password.\"}\n",
    "\n",
    "def get_fb_id(access_token):\n",
    "    if \"error\" in access_token:\n",
    "        return {\"error\": \"access token could not be retrieved\"}\n",
    "    \"\"\"Gets facebook ID from access token\"\"\"\n",
    "    req = requests.get('https://graph.facebook.com/me?access_token=' + access_token)\n",
    "    return req.json()[\"id\"]"
   ]
  },
  {
   "cell_type": "code",
   "execution_count": null,
   "metadata": {
    "collapsed": false
   },
   "outputs": [],
   "source": [
    "facebook_auth_token = get_fb_access_token(input('Email: '), getpass.getpass('Password: '))\n",
    "facebook_id = get_fb_id(facebook_auth_token)\n",
    "if 'error' in facebook_auth_token or 'error' in facebook_id:\n",
    "    sys.exit(0)"
   ]
  },
  {
   "cell_type": "code",
   "execution_count": null,
   "metadata": {
    "collapsed": false
   },
   "outputs": [],
   "source": [
    "session = pynder.Session(facebook_id, facebook_auth_token)"
   ]
  },
  {
   "cell_type": "code",
   "execution_count": null,
   "metadata": {
    "collapsed": false
   },
   "outputs": [],
   "source": [
    "latlon = {'shibuya':(35.6618, 139.7041),\n",
    "         'todai': (35.7127, 139.7620),\n",
    "         'ginza': (35.6721, 139.7708)}"
   ]
  },
  {
   "cell_type": "code",
   "execution_count": null,
   "metadata": {
    "collapsed": false
   },
   "outputs": [],
   "source": [
    "#session.update_location(*latlon['shibuya']) # updates latitude and longitude for your profile"
   ]
  },
  {
   "cell_type": "code",
   "execution_count": null,
   "metadata": {
    "collapsed": false
   },
   "outputs": [],
   "source": [
    "#profile = session.profile  # your profile. If you update its attributes they will be updated on Tinder."
   ]
  },
  {
   "cell_type": "markdown",
   "metadata": {},
   "source": [
    "Then, add people into database. Sometimes a boy/girl is shown which you already liked. When you see a boy/girl again, skip photos, schools, jobs, common_connections and instagram_username if the same thing is already in database, otherwise insert new row."
   ]
  },
  {
   "cell_type": "code",
   "execution_count": null,
   "metadata": {
    "collapsed": false
   },
   "outputs": [],
   "source": [
    "conn = sqlite3.connect('tinder.db')\n",
    "conn.isolation_level = None\n",
    "c = conn.cursor()"
   ]
  },
  {
   "cell_type": "code",
   "execution_count": null,
   "metadata": {
    "collapsed": false
   },
   "outputs": [],
   "source": [
    "c.execute('''CREATE TABLE IF NOT EXISTS girls\n",
    "             (id text primary key, name text, bio text, age integer, birth_date timestamp,\n",
    "             ping_time text, distance_km real, like integer, match integer)''')\n",
    "c.execute('''CREATE TABLE IF NOT EXISTS photos\n",
    "             (id text, photo_url text, scraped_date date, unique(id, photo_url))''')\n",
    "c.execute('''CREATE TABLE IF NOT EXISTS schools\n",
    "             (id text, school text, scraped_date date, unique(id, school))''')\n",
    "c.execute('''CREATE TABLE IF NOT EXISTS jobs\n",
    "             (id text, job text, scraped_date date, unique(id, job))''')\n",
    "c.execute('''CREATE TABLE IF NOT EXISTS common_connections\n",
    "             (id text, friend text, scraped_date date, unique(id, friend))''')\n",
    "c.execute('''CREATE TABLE IF NOT EXISTS instagram_username\n",
    "             (id text, username text, scraped_date date, unique(id, username))''')"
   ]
  },
  {
   "cell_type": "code",
   "execution_count": null,
   "metadata": {
    "collapsed": false
   },
   "outputs": [],
   "source": [
    "for user in users:\n",
    "    if (any([school for school in user.schools]))\n",
    "    or ('common_friends' in user._data and len(user.common_connections)>8):\n",
    "        print(1)\n",
    "    else:\n",
    "        print(0)"
   ]
  },
  {
   "cell_type": "code",
   "execution_count": null,
   "metadata": {
    "collapsed": false,
    "scrolled": false
   },
   "outputs": [],
   "source": [
    "cnt = 0\n",
    "today = datetime.datetime.today()\n",
    "while session.can_like_in < 0:\n",
    "    try:\n",
    "        users = session.nearby_users() # returns a list of users nearby\n",
    "    except KeyError as e:\n",
    "        print('KeyError: ', e)\n",
    "        time.sleep(10)\n",
    "        continue\n",
    "    # like\n",
    "    for user in users:\n",
    "        if any(['university of tokyo' in school.lower() for school in user.schools]) or\\\n",
    "        any(['utokyo' in school.lower() for school in user.schools]) or\\\n",
    "        ('common_friends' in user._data and len(user.common_connections)>8):\n",
    "            try:\n",
    "                user.superlike()\n",
    "            except:\n",
    "                user.like()\n",
    "        else:\n",
    "            user.like()\n",
    "    # put database\n",
    "    girls = [(user.id, user.name, user.bio, user.age, user.birth_date, datetime.datetime.strptime(user.ping_time, '%Y-%m-%dT%H:%M:%S.%fZ'),\n",
    "             user.distance_km, 1, 0) for user in users]\n",
    "    photos = [(user.id, photo, today) for user in users for photo in user.get_photos(width='640') if user.photos] # (id, photo_url)\n",
    "    schools = [(user.id, school, today) for user in users for school in user.schools] # (id, school)\n",
    "    jobs = [(user.id, job, today) for user in users for job in user.jobs] # (id, job)\n",
    "    common_connections = [(user.id, conn, today) for user in users if 'common_friends' in user._data for conn in user.common_connections] # (id, friend)\n",
    "    instagram_username = [(user.id, user.instagram_username, today) for user in users if user.instagram_username] # (id, username)\n",
    "    try:\n",
    "        c.execute('begin')\n",
    "        c.executemany('INSERT OR REPLACE INTO girls VALUES (?,?,?,?,?,?,?,?,?)', girls)\n",
    "        c.executemany('INSERT OR IGNORE INTO photos VALUES (?,?,?)', photos)\n",
    "        c.executemany('INSERT OR IGNORE INTO schools VALUES (?,?,?)', schools)    \n",
    "        c.executemany('INSERT OR IGNORE INTO jobs VALUES (?,?,?)', jobs)\n",
    "        c.executemany('INSERT OR IGNORE INTO common_connections VALUES (?,?,?)', common_connections)\n",
    "        c.executemany('INSERT OR IGNORE INTO instagram_username VALUES (?,?,?)', instagram_username)\n",
    "        c.execute('end')\n",
    "    except:\n",
    "        c.execute('rollback')\n",
    "    cnt += len(users)\n",
    "    time.sleep(0.5)\n",
    "    print('You liked {} girls.'.format(cnt))\n",
    "nexttime = datetime.datetime.now() + datetime.timedelta(seconds=session.can_like_in)\n",
    "print('You can like again at '+nexttime.strftime(\"%Y-%m-%d %H:%M:%S\"))"
   ]
  },
  {
   "cell_type": "code",
   "execution_count": null,
   "metadata": {
    "collapsed": false
   },
   "outputs": [],
   "source": [
    "conn.commit()\n",
    "conn.close()"
   ]
  }
 ],
 "metadata": {
  "kernelspec": {
   "display_name": "Python 3",
   "language": "python",
   "name": "python3"
  },
  "language_info": {
   "codemirror_mode": {
    "name": "ipython",
    "version": 3
   },
   "file_extension": ".py",
   "mimetype": "text/x-python",
   "name": "python",
   "nbconvert_exporter": "python",
   "pygments_lexer": "ipython3",
   "version": "3.5.1"
  }
 },
 "nbformat": 4,
 "nbformat_minor": 0
}
