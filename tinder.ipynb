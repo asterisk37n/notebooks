{
 "cells": [
  {
   "cell_type": "markdown",
   "metadata": {
    "collapsed": true
   },
   "source": [
    "# Tinder automated like\n",
    "This app allows you to send Likes on tinder automatically.\n",
    "\n",
    "facebook_token, which expires almost in an hour, can be got in the url after pusshing OK button in https://www.facebook.com/dialog/oauth?client_id=464891386855067&redirect_uri=fbconnect://success&scope=basic_info%2Cemail%2Cpublic_profile%2Cuser_about_me%2Cuser_activities%2Cuser_birthday%2Cuser_education_history%2Cuser_friends%2Cuser_interests%2Cuser_likes%2Cuser_location%2Cuser_photos%2Cuser_relationship_details&response_type=token&__mref=message\n",
    "\n",
    "facebook_id can be found from http://findmyfbid.com"
   ]
  },
  {
   "cell_type": "code",
   "execution_count": 24,
   "metadata": {
    "collapsed": false
   },
   "outputs": [],
   "source": [
    "import pynder\n",
    "import datetime\n",
    "import sqlite3\n",
    "import time\n",
    "import os\n",
    "import json"
   ]
  },
  {
   "cell_type": "code",
   "execution_count": 25,
   "metadata": {
    "collapsed": true
   },
   "outputs": [],
   "source": [
    "facebook_id = 'your_id'\n",
    "facebook_auth_token = 'your_token'"
   ]
  },
  {
   "cell_type": "code",
   "execution_count": 26,
   "metadata": {
    "collapsed": false
   },
   "outputs": [],
   "source": [
    "# create a file, tinder_token.json in the same folder as this file with following content. Replace id and token with yours.\n",
    "# {\"facebook_id\":\"your_id\",\n",
    "# \"facebook_auth_token\":\"your_token\"}\n",
    "token_filename = 'tinder_token.json'\n",
    "token_path = os.path.exists(token_filename)\n",
    "if os.path.exists(token_path):\n",
    "    with open(token_filename) as f:    \n",
    "        data = json.load(f)\n",
    "        facebook_id = data['facebook_id']\n",
    "        facebook_auth_token = data['facebook_auth_token']"
   ]
  },
  {
   "cell_type": "code",
   "execution_count": 27,
   "metadata": {
    "collapsed": false
   },
   "outputs": [],
   "source": [
    "session = pynder.Session(facebook_id, facebook_auth_token)"
   ]
  },
  {
   "cell_type": "code",
   "execution_count": 28,
   "metadata": {
    "collapsed": false
   },
   "outputs": [],
   "source": [
    "latlon = {'shibuya':(35.6618, 139.7041),\n",
    "         'todai': (35.7127, 139.7620),\n",
    "         'ginza': (35.6721, 139.7708)}"
   ]
  },
  {
   "cell_type": "code",
   "execution_count": 29,
   "metadata": {
    "collapsed": false
   },
   "outputs": [
    {
     "data": {
      "text/plain": [
       "{'status': 200}"
      ]
     },
     "execution_count": 29,
     "metadata": {},
     "output_type": "execute_result"
    }
   ],
   "source": [
    "session.update_location(*latlon['shibuya']) # updates latitude and longitude for your profile"
   ]
  },
  {
   "cell_type": "code",
   "execution_count": 30,
   "metadata": {
    "collapsed": false
   },
   "outputs": [],
   "source": [
    "profile = session.profile  # your profile. If you update its attributes they will be updated on Tinder."
   ]
  },
  {
   "cell_type": "markdown",
   "metadata": {},
   "source": [
    "Then, add people into database. Sometimes a boy/girl is shown which you already liked. When you see a boy/girl again, skip photos, schools, jobs, common_connections and instagram_username if the same thing is already in database, otherwise insert new row."
   ]
  },
  {
   "cell_type": "code",
   "execution_count": 40,
   "metadata": {
    "collapsed": false
   },
   "outputs": [],
   "source": [
    "conn = sqlite3.connect('tinder.db')\n",
    "conn.isolation_level = None\n",
    "c = conn.cursor()"
   ]
  },
  {
   "cell_type": "code",
   "execution_count": 32,
   "metadata": {
    "collapsed": false
   },
   "outputs": [
    {
     "data": {
      "text/plain": [
       "<sqlite3.Cursor at 0x445dd60>"
      ]
     },
     "execution_count": 32,
     "metadata": {},
     "output_type": "execute_result"
    }
   ],
   "source": [
    "c.execute('''CREATE TABLE IF NOT EXISTS girls\n",
    "             (id text primary key, name text, bio text, age integer, birth_date timestamp,\n",
    "             ping_time text, distance_km real, like integer, match integer)''')\n",
    "c.execute('''CREATE TABLE IF NOT EXISTS photos\n",
    "             (id text, photo_url text, scraped_date date, unique(id, photo_url))''')\n",
    "c.execute('''CREATE TABLE IF NOT EXISTS schools\n",
    "             (id text, school text, scraped_date date, unique(id, school))''')\n",
    "c.execute('''CREATE TABLE IF NOT EXISTS jobs\n",
    "             (id text, job text, scraped_date date, unique(id, job))''')\n",
    "c.execute('''CREATE TABLE IF NOT EXISTS common_connections\n",
    "             (id text, friend text, scraped_date date, unique(id, friend))''')\n",
    "c.execute('''CREATE TABLE IF NOT EXISTS instagram_username\n",
    "             (id text, username text, scraped_date date, unique(id, username))''')"
   ]
  },
  {
   "cell_type": "code",
   "execution_count": 33,
   "metadata": {
    "collapsed": false,
    "scrolled": false
   },
   "outputs": [
    {
     "name": "stdout",
     "output_type": "stream",
     "text": [
      "You liked 11 girls.\n",
      "You liked 21 girls.\n",
      "'bio'\n",
      "'bio'\n",
      "'bio'\n",
      "You liked 32 girls.\n",
      "You liked 43 girls.\n",
      "You liked 54 girls.\n",
      "You liked 65 girls.\n",
      "You liked 76 girls.\n",
      "'bio'\n",
      "'bio'\n",
      "'bio'\n",
      "'bio'\n",
      "'bio'\n",
      "You liked 86 girls.\n",
      "'bio'\n",
      "'bio'\n",
      "'bio'\n",
      "'bio'\n",
      "'bio'\n",
      "'bio'\n",
      "'bio'\n",
      "'bio'\n",
      "'bio'\n",
      "'bio'\n",
      "'bio'\n",
      "'bio'\n",
      "'bio'\n",
      "'bio'\n",
      "'bio'\n",
      "'bio'\n",
      "You liked 97 girls.\n",
      "You liked 107 girls.\n",
      "'bio'\n",
      "'bio'\n",
      "You liked 116 girls.\n",
      "You liked 127 girls.\n",
      "You can like again at 2017-03-24 02:46:02\n"
     ]
    }
   ],
   "source": [
    "cnt = 0\n",
    "today = datetime.datetime.today()\n",
    "while session.can_like_in < 0:\n",
    "    try:\n",
    "        users = session.nearby_users() # returns a list of users nearby\n",
    "    except KeyError as e:\n",
    "        print(e)\n",
    "        time.sleep(10)\n",
    "        continue\n",
    "    girls = [(user.id, user.name, user.bio, user.age, user.birth_date, datetime.datetime.strptime(user.ping_time, '%Y-%m-%dT%H:%M:%S.%fZ'),\n",
    "             user.distance_km, 1, 0) for user in users]\n",
    "    photos = [(user.id, photo, today) for user in users for photo in user.get_photos(width='640') if user.photos] # (id, photo_url)\n",
    "    schools = [(user.id, school, today) for user in users for school in user.schools] # (id, school)\n",
    "    jobs = [(user.id, job, today) for user in users for job in user.jobs] # (id, job)\n",
    "    common_connections = [(user.id, conn, today) for user in users if 'common_friends' in user._data for conn in user.common_connections] # (id, friend)\n",
    "    instagram_username = [(user.id, user.instagram_username, today) for user in users if user.instagram_username] # (id, username)\n",
    "    try:\n",
    "        c.execute('begin')\n",
    "        c.executemany('INSERT OR REPLACE INTO girls VALUES (?,?,?,?,?,?,?,?,?)', girls)\n",
    "        c.executemany('INSERT OR IGNORE INTO photos VALUES (?,?,?)', photos)\n",
    "        c.executemany('INSERT OR IGNORE INTO schools VALUES (?,?,?)', schools)    \n",
    "        c.executemany('INSERT OR IGNORE INTO jobs VALUES (?,?,?)', jobs)\n",
    "        c.executemany('INSERT OR IGNORE INTO common_connections VALUES (?,?,?)', common_connections)\n",
    "        c.executemany('INSERT OR IGNORE INTO instagram_username VALUES (?,?,?)', instagram_username)\n",
    "        c.execute('end')\n",
    "    except:\n",
    "        c.execute('rollback')\n",
    "    matches = [user.superlike() if ('University of Tokyo' in user.schools or '東京大学' in user.schools) or ('common_friends' in user._data and len(user.common_connections)>8) else user.like() for user in users]\n",
    "    cnt += len(users)\n",
    "    time.sleep(0.5)\n",
    "    print('You liked {} girls.'.format(cnt))\n",
    "nexttime = datetime.datetime.now() + datetime.timedelta(seconds=session.can_like_in)\n",
    "print('You can like again at '+nexttime.strftime(\"%Y-%m-%d %H:%M:%S\"))"
   ]
  },
  {
   "cell_type": "code",
   "execution_count": 34,
   "metadata": {
    "collapsed": true
   },
   "outputs": [],
   "source": [
    "conn.commit()\n",
    "conn.close()"
   ]
  },
  {
   "cell_type": "code",
   "execution_count": 48,
   "metadata": {
    "collapsed": false
   },
   "outputs": [
    {
     "name": "stdout",
     "output_type": "stream",
     "text": [
      "('58c49ec5d4158bda0bb6123b', '東京大学 | UTokyo', '2017-03-17 15:54:50.291470')\n",
      "('58d35086aa75cfd90f3b6d9d', 'The University of Tokyo / UTokyo', '2017-03-23 14:40:27.666783')\n"
     ]
    }
   ],
   "source": [
    "s = c.execute('select * from schools').fetchall()\n",
    "for row in s:\n",
    "    if 'UTokyo' in row[1] or '東京大学' in row[1]:\n",
    "        print(row)"
   ]
  }
 ],
 "metadata": {
  "kernelspec": {
   "display_name": "Python 3",
   "language": "python",
   "name": "python3"
  },
  "language_info": {
   "codemirror_mode": {
    "name": "ipython",
    "version": 3
   },
   "file_extension": ".py",
   "mimetype": "text/x-python",
   "name": "python",
   "nbconvert_exporter": "python",
   "pygments_lexer": "ipython3",
   "version": "3.5.1"
  }
 },
 "nbformat": 4,
 "nbformat_minor": 0
}
