{
 "cells": [
  {
   "cell_type": "markdown",
   "metadata": {},
   "source": [
    "# Tinder automated like\n",
    "This app allows you to send Likes on tinder automatically.\n",
    "\n",
    "facebook_token, which expires almost in an hour, can be got in the url after pusshing OK button in https://www.facebook.com/dialog/oauth?client_id=464891386855067&redirect_uri=fbconnect://success&scope=basic_info%2Cemail%2Cpublic_profile%2Cuser_about_me%2Cuser_activities%2Cuser_birthday%2Cuser_education_history%2Cuser_friends%2Cuser_interests%2Cuser_likes%2Cuser_location%2Cuser_photos%2Cuser_relationship_details&response_type=token&__mref=message\n",
    "\n",
    "facebook_id can be found from http://findmyfbid.com"
   ]
  },
  {
   "cell_type": "code",
   "execution_count": 12,
   "metadata": {
    "collapsed": false
   },
   "outputs": [],
   "source": [
    "import pynder\n",
    "import datetime\n",
    "import sqlite3\n",
    "import time\n",
    "import os\n",
    "import json"
   ]
  },
  {
   "cell_type": "code",
   "execution_count": 13,
   "metadata": {
    "collapsed": true
   },
   "outputs": [],
   "source": [
    "facebook_id = 'your_id'\n",
    "facebook_auth_token = 'your_token'"
   ]
  },
  {
   "cell_type": "code",
   "execution_count": 14,
   "metadata": {
    "collapsed": false
   },
   "outputs": [],
   "source": [
    "# create a file, tinder_token.json in the same folder as this file with following content. Replace id and token.\n",
    "# {\"facebook_id\":\"your_id\",\n",
    "# \"facebook_auth_token\":\"your_token\"}\n",
    "token_filename = 'tinder_token.json'\n",
    "token_path = os.path.exists(token_filename)\n",
    "if os.path.exists(token_path):\n",
    "    with open(token_filename) as f:    \n",
    "        data = json.load(f)\n",
    "        facebook_id = data['facebook_id']\n",
    "        facebook_auth_token = data['facebook_auth_token']"
   ]
  },
  {
   "cell_type": "code",
   "execution_count": 15,
   "metadata": {
    "collapsed": false
   },
   "outputs": [],
   "source": [
    "session = pynder.Session(facebook_id, facebook_auth_token)"
   ]
  },
  {
   "cell_type": "code",
   "execution_count": 17,
   "metadata": {
    "collapsed": true
   },
   "outputs": [],
   "source": [
    "LAT = 35.6804\n",
    "LON = 139.7717"
   ]
  },
  {
   "cell_type": "code",
   "execution_count": 18,
   "metadata": {
    "collapsed": false
   },
   "outputs": [
    {
     "data": {
      "text/plain": [
       "{'status': 200}"
      ]
     },
     "execution_count": 18,
     "metadata": {},
     "output_type": "execute_result"
    }
   ],
   "source": [
    "session.update_location(LAT, LON) # updates latitude and longitude for your profile"
   ]
  },
  {
   "cell_type": "code",
   "execution_count": 19,
   "metadata": {
    "collapsed": false
   },
   "outputs": [],
   "source": [
    "profile = session.profile  # your profile. If you update its attributes they will be updated on Tinder."
   ]
  },
  {
   "cell_type": "markdown",
   "metadata": {},
   "source": [
    "Then, add people into database. Sometimes a boy/girl is shown which you already liked. When you see a boy/girl again, skip photos, schools, jobs, common_connections and instagram_username if the same thing is already in database, otherwise insert new row."
   ]
  },
  {
   "cell_type": "code",
   "execution_count": 20,
   "metadata": {
    "collapsed": false
   },
   "outputs": [],
   "source": [
    "conn = sqlite3.connect('tinder.db')\n",
    "conn.isolation_level = None\n",
    "c = conn.cursor()"
   ]
  },
  {
   "cell_type": "code",
   "execution_count": 21,
   "metadata": {
    "collapsed": false
   },
   "outputs": [
    {
     "data": {
      "text/plain": [
       "<sqlite3.Cursor at 0x46f0960>"
      ]
     },
     "execution_count": 21,
     "metadata": {},
     "output_type": "execute_result"
    }
   ],
   "source": [
    "c.execute('''CREATE TABLE IF NOT EXISTS girls\n",
    "             (id text primary key, name text, bio text, age integer, birth_date timestamp,\n",
    "             ping_time text, distance_km real, like integer, match integer)''')\n",
    "c.execute('''CREATE TABLE IF NOT EXISTS photos\n",
    "             (id text, photo_url text, scraped_date date, unique(id, photo_url))''')\n",
    "c.execute('''CREATE TABLE IF NOT EXISTS schools\n",
    "             (id text, school text, scraped_date date, unique(id, school))''')\n",
    "c.execute('''CREATE TABLE IF NOT EXISTS jobs\n",
    "             (id text, job text, scraped_date date, unique(id, job))''')\n",
    "c.execute('''CREATE TABLE IF NOT EXISTS common_connections\n",
    "             (id text, friend text, scraped_date date, unique(id, friend))''')\n",
    "c.execute('''CREATE TABLE IF NOT EXISTS instagram_username\n",
    "             (id text, username text, scraped_date date, unique(id, username))''')"
   ]
  },
  {
   "cell_type": "code",
   "execution_count": 36,
   "metadata": {
    "collapsed": false,
    "scrolled": false
   },
   "outputs": [
    {
     "name": "stdout",
     "output_type": "stream",
     "text": [
      "You liked 10 girls.\n",
      "'bio'\n",
      "You liked 21 girls.\n",
      "'bio'\n",
      "You liked 32 girls.\n",
      "You liked 42 girls.\n",
      "You liked 52 girls.\n",
      "You liked 62 girls.\n",
      "You liked 73 girls.\n",
      "You liked 84 girls.\n",
      "You liked 95 girls.\n",
      "You liked 105 girls.\n",
      "You can like again at 2017-03-18 03:55:33\n"
     ]
    }
   ],
   "source": [
    "cnt = 0\n",
    "today = datetime.datetime.today()\n",
    "while session.can_like_in < 0:\n",
    "    try:\n",
    "        users = session.nearby_users() # returns a list of users nearby\n",
    "    except KeyError as e:\n",
    "        print(e)\n",
    "        time.sleep(10)\n",
    "        continue\n",
    "    girls = [(user.id, user.name, user.bio, user.age, user.birth_date, datetime.datetime.strptime(user.ping_time, '%Y-%m-%dT%H:%M:%S.%fZ'),\n",
    "             user.distance_km, 1, 0) for user in users]\n",
    "    photos = [(user.id, photo, today) for user in users for photo in user.get_photos(width='640') if user.photos] # (id, photo_url)\n",
    "    schools = [(user.id, school, today) for user in users for school in user.schools] # (id, school)\n",
    "    jobs = [(user.id, job, today) for user in users for job in user.jobs] # (id, job)\n",
    "    common_connections = [(user.id, conn, today) for user in users for conn in user.common_connections] # (id, friend)\n",
    "    instagram_username = [(user.id, user.instagram_username, today) for user in users if user.instagram_username] # (id, username)\n",
    "    try:\n",
    "        c.execute('begin')\n",
    "        c.executemany('INSERT OR REPLACE INTO girls VALUES (?,?,?,?,?,?,?,?,?)', girls)\n",
    "        c.executemany('INSERT OR IGNORE INTO photos VALUES (?,?,?)', photos)\n",
    "        c.executemany('INSERT OR IGNORE INTO schools VALUES (?,?,?)', schools)    \n",
    "        c.executemany('INSERT OR IGNORE INTO jobs VALUES (?,?,?)', jobs)\n",
    "        c.executemany('INSERT OR IGNORE INTO common_connections VALUES (?,?,?)', common_connections)\n",
    "        c.executemany('INSERT OR IGNORE INTO instagram_username VALUES (?,?,?)', instagram_username)\n",
    "        c.execute('end')\n",
    "    except:\n",
    "        c.execute('rollback')\n",
    "    matches = [user.superlike() if ('University of Tokyo' in user.schools or '東京大学' in user.schools) or (len(user.common_connections)>8) else user.like() for user in users]\n",
    "    cnt += len(users)\n",
    "    time.sleep(0.5)\n",
    "    print('You liked {} girls.'.format(cnt))\n",
    "nexttime = datetime.datetime.now() + datetime.timedelta(seconds=session.can_like_in)\n",
    "print('You can like again at '+nexttime.strftime(\"%Y-%m-%d %H:%M:%S\"))"
   ]
  },
  {
   "cell_type": "code",
   "execution_count": null,
   "metadata": {
    "collapsed": true
   },
   "outputs": [],
   "source": [
    "conn.commit()\n",
    "conn.close()"
   ]
  },
  {
   "cell_type": "code",
   "execution_count": 37,
   "metadata": {
    "collapsed": false
   },
   "outputs": [
    {
     "ename": "AttributeError",
     "evalue": "'sqlite3.Cursor' object has no attribute 'cursor'",
     "output_type": "error",
     "traceback": [
      "\u001b[1;31m---------------------------------------------------------------------------\u001b[0m",
      "\u001b[1;31mAttributeError\u001b[0m                            Traceback (most recent call last)",
      "\u001b[1;32m<ipython-input-37-ccecb82170d3>\u001b[0m in \u001b[0;36m<module>\u001b[1;34m()\u001b[0m\n\u001b[1;32m----> 1\u001b[1;33m \u001b[0mc\u001b[0m\u001b[1;33m.\u001b[0m\u001b[0mcursor\u001b[0m\u001b[1;33m(\u001b[0m\u001b[1;34m'select  * fron common_connections'\u001b[0m\u001b[1;33m)\u001b[0m\u001b[1;33m\u001b[0m\u001b[0m\n\u001b[0m",
      "\u001b[1;31mAttributeError\u001b[0m: 'sqlite3.Cursor' object has no attribute 'cursor'"
     ]
    }
   ],
   "source": [
    "c.ex('select  * fron common_connections')"
   ]
  },
  {
   "cell_type": "code",
   "execution_count": null,
   "metadata": {
    "collapsed": true
   },
   "outputs": [],
   "source": []
  }
 ],
 "metadata": {
  "kernelspec": {
   "display_name": "Python 3",
   "language": "python",
   "name": "python3"
  },
  "language_info": {
   "codemirror_mode": {
    "name": "ipython",
    "version": 3
   },
   "file_extension": ".py",
   "mimetype": "text/x-python",
   "name": "python",
   "nbconvert_exporter": "python",
   "pygments_lexer": "ipython3",
   "version": "3.5.1"
  }
 },
 "nbformat": 4,
 "nbformat_minor": 0
}
