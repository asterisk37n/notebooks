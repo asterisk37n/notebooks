{
 "cells": [
  {
   "cell_type": "code",
   "execution_count": 1,
   "metadata": {
    "collapsed": true
   },
   "outputs": [],
   "source": [
    "%matplotlib inline\n",
    "import requests\n",
    "import jsm\n",
    "from bs4 import BeautifulSoup\n",
    "import sqlite3\n",
    "import pandas as pd"
   ]
  },
  {
   "cell_type": "code",
   "execution_count": 2,
   "metadata": {
    "collapsed": false
   },
   "outputs": [
    {
     "name": "stderr",
     "output_type": "stream",
     "text": [
      "/home/nwata/anaconda3/lib/python3.6/site-packages/bs4/__init__.py:181: UserWarning: No parser was explicitly specified, so I'm using the best available HTML parser for this system (\"lxml\"). This usually isn't a problem, but if you run this code on another system, or in a different virtual environment, it may use a different parser and behave differently.\n",
      "\n",
      "The code that caused this warning is on line 193 of the file /home/nwata/anaconda3/lib/python3.6/runpy.py. To get rid of this warning, change code that looks like this:\n",
      "\n",
      " BeautifulSoup([your markup])\n",
      "\n",
      "to this:\n",
      "\n",
      " BeautifulSoup([your markup], \"lxml\")\n",
      "\n",
      "  markup_type=markup_type))\n"
     ]
    }
   ],
   "source": [
    "q = jsm.Quotes()\n",
    "b = q.get_brand()\n",
    "ccodes = []\n",
    "d = {}\n",
    "for key in b:\n",
    "    for i in b[key]:\n",
    "        ccodes.append(i.ccode)\n",
    "        d[i.ccode] = i.name # to convert compnay code to company name"
   ]
  },
  {
   "cell_type": "code",
   "execution_count": 5,
   "metadata": {
    "collapsed": true
   },
   "outputs": [],
   "source": [
    "def get_profit(ccode):\n",
    "    r = requests.get('https://profile.yahoo.co.jp/consolidate/{}'.format(ccode))\n",
    "    bs = BeautifulSoup(r.text, 'lxml')\n",
    "    text = bs.findAll('td')[39].text\n",
    "    num = ''.join(s for s in text if s.isdigit())\n",
    "    return int(num) if num else -1\n",
    "\n",
    "def get_num_employees(ccode):\n",
    "    r = requests.get('https://profile.yahoo.co.jp/fundamental/{}'.format(ccode))\n",
    "    bs = BeautifulSoup(r.text, 'lxml')\n",
    "    text = bs.findAll('td', attrs = {\"width\": \"25%\"})[-1].text\n",
    "    num = ''.join(s for s in text if s.isdigit())\n",
    "    return int(num) if num else -1"
   ]
  },
  {
   "cell_type": "code",
   "execution_count": 6,
   "metadata": {
    "collapsed": false
   },
   "outputs": [
    {
     "name": "stdout",
     "output_type": "stream",
     "text": [
      "got net income and employees from 3075 companies out of 3666\n"
     ]
    }
   ],
   "source": [
    "data = []\n",
    "for ccode in ccodes:\n",
    "    pft = get_profit(ccode)\n",
    "    num = get_num_employees(ccode)\n",
    "    per = round(pft / num, 2) if pft > 0 and num > 0 else -1\n",
    "    datum = (ccode, pft, num, per)\n",
    "    data.append(datum)\n",
    "\n",
    "print('got net income and employees from {} companies out of {}'.format(len([i for i in data if i[3] > 0]), len(ccodes)))"
   ]
  },
  {
   "cell_type": "code",
   "execution_count": 4,
   "metadata": {
    "collapsed": false
   },
   "outputs": [],
   "source": []
  },
  {
   "cell_type": "code",
   "execution_count": 7,
   "metadata": {
    "collapsed": false
   },
   "outputs": [
    {
     "ename": "OperationalError",
     "evalue": "duplicate column name: per_person",
     "output_type": "error",
     "traceback": [
      "\u001b[0;31m---------------------------------------------------------------------------\u001b[0m",
      "\u001b[0;31mOperationalError\u001b[0m                          Traceback (most recent call last)",
      "\u001b[0;32m<ipython-input-7-b9712e153f54>\u001b[0m in \u001b[0;36m<module>\u001b[0;34m()\u001b[0m\n\u001b[0;32m----> 1\u001b[0;31m \u001b[0mc\u001b[0m\u001b[0;34m.\u001b[0m\u001b[0mexecute\u001b[0m\u001b[0;34m(\u001b[0m\u001b[0;34m'CREATE TABLE per_person(ccode INTEGER, per_person INTEGER, employee INTEGER, per_person REAL)'\u001b[0m\u001b[0;34m)\u001b[0m\u001b[0;34m\u001b[0m\u001b[0m\n\u001b[0m\u001b[1;32m      2\u001b[0m \u001b[0mc\u001b[0m\u001b[0;34m.\u001b[0m\u001b[0mexecutemany\u001b[0m\u001b[0;34m(\u001b[0m\u001b[0;34m'INSERT INTO per_person VALUES (?, ?, ?, ?)'\u001b[0m\u001b[0;34m,\u001b[0m \u001b[0mdata\u001b[0m\u001b[0;34m)\u001b[0m\u001b[0;34m\u001b[0m\u001b[0m\n\u001b[1;32m      3\u001b[0m \u001b[0mconn\u001b[0m\u001b[0;34m.\u001b[0m\u001b[0mcommit\u001b[0m\u001b[0;34m(\u001b[0m\u001b[0;34m)\u001b[0m\u001b[0;34m\u001b[0m\u001b[0m\n",
      "\u001b[0;31mOperationalError\u001b[0m: duplicate column name: per_person"
     ]
    }
   ],
   "source": [
    "conn = sqlite3.connect('income_per_person.db')\n",
    "c = conn.cursor()\n",
    "c.execute('CREATE TABLE per_person(ccode INTEGER, net_income INTEGER, employee INTEGER, per_person REAL)')\n",
    "c.executemany('INSERT INTO per_person VALUES (?, ?, ?, ?)', data)\n",
    "conn.commit()"
   ]
  },
  {
   "cell_type": "code",
   "execution_count": null,
   "metadata": {
    "collapsed": false
   },
   "outputs": [],
   "source": [
    "df = pd.io.sql.read_sql_query('SELECT ccode, per_person FROM per_person WHERE per_person > 0 ORDER BY per_person DESC limit 12', conn)\n",
    "df['name'] = df['ccode'].map(lambda ccode: d[str(ccode)])\n",
    "ax = df.plot.bar(x='ccode', y='per_person')\n",
    "ax.set_title('THE 10 BIGGEST NET INCOME PER PERSON')\n",
    "ax.set_xlabel('Companies on stock market')\n",
    "ax.set_ylabel('Million Japanese Yen')"
   ]
  },
  {
   "cell_type": "code",
   "execution_count": null,
   "metadata": {
    "collapsed": true
   },
   "outputs": [],
   "source": [
    "conn.close()"
   ]
  }
 ],
 "metadata": {
  "kernelspec": {
   "display_name": "Python 3",
   "language": "python",
   "name": "python3"
  },
  "language_info": {
   "codemirror_mode": {
    "name": "ipython",
    "version": 3
   },
   "file_extension": ".py",
   "mimetype": "text/x-python",
   "name": "python",
   "nbconvert_exporter": "python",
   "pygments_lexer": "ipython3",
   "version": "3.6.0"
  }
 },
 "nbformat": 4,
 "nbformat_minor": 2
}
