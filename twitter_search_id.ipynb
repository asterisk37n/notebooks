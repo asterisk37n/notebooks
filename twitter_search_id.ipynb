{
 "cells": [
  {
   "cell_type": "code",
   "execution_count": null,
   "metadata": {},
   "outputs": [],
   "source": [
    "#!/usr/bin/env python\n",
    "# -*- coding: utf-8 -*-\n",
    "\n",
    "from requests_oauthlib import OAuth1Session\n",
    "import string\n",
    "import sqlite3\n",
    "import time\n",
    "import datetime"
   ]
  },
  {
   "cell_type": "code",
   "execution_count": null,
   "metadata": {},
   "outputs": [],
   "source": [
    "from itertools import chain, product\n",
    "def bruteforce(charset, maxlength):\n",
    "    return (''.join(candidate)\n",
    "        for candidate in chain.from_iterable(product(charset, repeat=i)\n",
    "            for i in range(1, maxlength + 1)))"
   ]
  },
  {
   "cell_type": "code",
   "execution_count": null,
   "metadata": {},
   "outputs": [],
   "source": [
    "def insert_user(user, cur):\n",
    "    cur.execute('INSERT OR REPLACE INTO accounts VALUES (?,?,?,?,?,?,?,?,?,?,?,?,?)',(\n",
    "        user['id'], user['screen_name'], user['name'],user['created_at'],\n",
    "        user['description'], user['followers_count'], user['friends_count'],\n",
    "        user['listed_count'], user['statuses_count'],\n",
    "        user['profile_image_url'], user['profile_background_image_url'],\n",
    "        user['time_zone'], user['protected']))"
   ]
  },
  {
   "cell_type": "code",
   "execution_count": null,
   "metadata": {},
   "outputs": [],
   "source": [
    "CK = ''\n",
    "CS = ''\n",
    "AT = ''\n",
    "AS = ''"
   ]
  },
  {
   "cell_type": "code",
   "execution_count": null,
   "metadata": {},
   "outputs": [],
   "source": [
    "twitter = OAuth1Session(CK, CS, AT, AS)"
   ]
  },
  {
   "cell_type": "code",
   "execution_count": null,
   "metadata": {},
   "outputs": [],
   "source": [
    "conn = sqlite3.connect('twitter_accounts.db')\n",
    "cur = conn.cursor()\n",
    "cur.execute('''\n",
    "    CREATE TABLE IF NOT EXISTS accounts(\n",
    "        id integer primary key,\n",
    "        screen_name text,\n",
    "        name text,\n",
    "        created_at text,\n",
    "        description text,\n",
    "        followers_count integer,\n",
    "        friends_count integer,\n",
    "        listed_count integer,\n",
    "        statuses_count integer,\n",
    "        profile_image_url text,\n",
    "        profile_background_image_url text,\n",
    "        time_zone text,\n",
    "        protected integer\n",
    "    )''')\n",
    "cur.execute('''\n",
    "    CREATE TABLE done_screen_names(\n",
    "    screen_name text)''')"
   ]
  },
  {
   "cell_type": "code",
   "execution_count": null,
   "metadata": {},
   "outputs": [],
   "source": [
    "cnt = 0\n",
    "hit = 0\n",
    "url = 'https://api.twitter.com/1.1/users/show.json?screen_name={}&include_entities=true'\n",
    "done_screen_names = [row[0] for row in cur.execute('SELECT screen_name from done_screen_names').fetchall()]\n",
    "for attempt in bruteforce(string.ascii_lowercase, 3):\n",
    "    cnt += 1\n",
    "    screen_name = 's{}_okuma'.format(attempt)\n",
    "    cur.execute('INSERT INTO done_screen_names VALUES(?)', (screen_name,))\n",
    "    if screen_name in done_screen_names:\n",
    "        continue\n",
    "    user_json = twitter.get(url.format(screen_name)).json()\n",
    "    print('{}/{}: {}'.format(hit, cnt, screen_name), end='\\r')\n",
    "    if 'errors' in user_json:\n",
    "        if 'limit' in user_json['errors'][0]['message']:\n",
    "            reset = twitter.get('https://api.twitter.com/1.1/application/rate_limit_status.json').json()['resources']['users']['/users/show/:id']['reset']\n",
    "            print('reset at ', datetime.datetime.fromtimestamp(reset))\n",
    "            time.sleep(60 + reset - int(time.time()))\n",
    "            user_json = twitter.get(url.format(screen_name)).json()\n",
    "            if 'errors' in user_json:\n",
    "                continue\n",
    "        else:\n",
    "            print('{}/{}, {}'.format(hit, cnt, screen_name), end='\\r')\n",
    "            continue\n",
    "    hit += 1\n",
    "    insert_user(user_json, cur)\n",
    "    conn.commit()\n",
    "    print('{}/{}. {}: {}'.format(hit, cnt, user_json['screen_name'], user_json['description']))\n",
    "    time.sleep(2)"
   ]
  },
  {
   "cell_type": "code",
   "execution_count": null,
   "metadata": {},
   "outputs": [],
   "source": [
    "cur.close()"
   ]
  }
 ],
 "metadata": {
  "kernelspec": {
   "display_name": "Python 3",
   "language": "python",
   "name": "python3"
  },
  "language_info": {
   "codemirror_mode": {
    "name": "ipython",
    "version": 3
   },
   "file_extension": ".py",
   "mimetype": "text/x-python",
   "name": "python",
   "nbconvert_exporter": "python",
   "pygments_lexer": "ipython3",
   "version": "3.5.1"
  }
 },
 "nbformat": 4,
 "nbformat_minor": 2
}
