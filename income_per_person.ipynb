{
 "cells": [
  {
   "cell_type": "code",
   "execution_count": 157,
   "metadata": {
    "collapsed": true
   },
   "outputs": [],
   "source": [
    "%matplotlib inline\n",
    "import requests\n",
    "import jsm\n",
    "from bs4 import BeautifulSoup\n",
    "import sqlite3\n",
    "import pandas as pd"
   ]
  },
  {
   "cell_type": "code",
   "execution_count": 153,
   "metadata": {
    "collapsed": false
   },
   "outputs": [
    {
     "name": "stderr",
     "output_type": "stream",
     "text": [
      "/home/nwata/anaconda3/lib/python3.6/site-packages/bs4/__init__.py:181: UserWarning: No parser was explicitly specified, so I'm using the best available HTML parser for this system (\"lxml\"). This usually isn't a problem, but if you run this code on another system, or in a different virtual environment, it may use a different parser and behave differently.\n",
      "\n",
      "The code that caused this warning is on line 193 of the file /home/nwata/anaconda3/lib/python3.6/runpy.py. To get rid of this warning, change code that looks like this:\n",
      "\n",
      " BeautifulSoup([your markup])\n",
      "\n",
      "to this:\n",
      "\n",
      " BeautifulSoup([your markup], \"lxml\")\n",
      "\n",
      "  markup_type=markup_type))\n"
     ]
    }
   ],
   "source": [
    "q = jsm.Quotes()\n",
    "b = q.get_brand()\n",
    "ccodes = []\n",
    "d = {}\n",
    "for key in b:\n",
    "    for i in b[key]:\n",
    "        ccodes.append(i.ccode)\n",
    "        d[i.ccode] = i.name"
   ]
  },
  {
   "cell_type": "code",
   "execution_count": null,
   "metadata": {
    "collapsed": true
   },
   "outputs": [],
   "source": [
    "conn = sqlite3.connect('income_per_person.db')\n",
    "c = conn.cursor()\n",
    "c.execute('CREATE TABLE IF NOT EXISTS ccodes(ccode INTEGER)')\n",
    "c.executemany('INSERT INTO ccodes values (?)', [(i,) for i in codes])\n",
    "conn.commit()"
   ]
  },
  {
   "cell_type": "code",
   "execution_count": 115,
   "metadata": {
    "collapsed": true
   },
   "outputs": [],
   "source": [
    "def get_profit(ccode):\n",
    "    r = requests.get('https://profile.yahoo.co.jp/consolidate/{}'.format(ccode))\n",
    "    bs = BeautifulSoup(r.text, 'lxml')\n",
    "    text = bs.findAll('td')[39].text\n",
    "    num = ''.join(s for s in text if s.isdigit())\n",
    "    return int(num) if num else -1\n",
    "\n",
    "def get_num_employees(ccode):\n",
    "    r = requests.get('https://profile.yahoo.co.jp/fundamental/{}'.format(ccode))\n",
    "    bs = BeautifulSoup(r.text, 'lxml')\n",
    "    text = bs.findAll('td', attrs = {\"width\": \"25%\"})[-1].text\n",
    "    num = ''.join(s for s in text if s.isdigit())\n",
    "    return int(num) if num else -1"
   ]
  },
  {
   "cell_type": "code",
   "execution_count": null,
   "metadata": {
    "collapsed": false
   },
   "outputs": [],
   "source": [
    "data = []\n",
    "for ccode in ccodes:\n",
    "    pft = get_profit(ccode)\n",
    "    num = get_num_employees(ccode)\n",
    "    per = round(pft / num, 2) if pft > 0 and num > 0 else -1\n",
    "    datum = (ccode, pft, num, per)\n",
    "    data.append(datum)"
   ]
  },
  {
   "cell_type": "code",
   "execution_count": 136,
   "metadata": {
    "collapsed": false
   },
   "outputs": [
    {
     "data": {
      "text/plain": [
       "<sqlite3.Cursor at 0x7f71ddabee30>"
      ]
     },
     "execution_count": 136,
     "metadata": {},
     "output_type": "execute_result"
    }
   ],
   "source": [
    "c.execute('CREATE TABLE per_person(ccode INTEGER, income INTEGER, employee INTEGER, per_person REAL)')\n",
    "c.executemany('INSERT INTO per_person VALUES (?, ?, ?, ?)', data)\n",
    "conn.commit()"
   ]
  },
  {
   "cell_type": "code",
   "execution_count": 190,
   "metadata": {
    "collapsed": false
   },
   "outputs": [
    {
     "data": {
      "text/plain": [
       "<matplotlib.text.Text at 0x7f71b9853dd8>"
      ]
     },
     "execution_count": 190,
     "metadata": {},
     "output_type": "execute_result"
    },
    {
     "data": {
      "image/png": "[encoded data removed]",
      "text/plain": [
       "<matplotlib.figure.Figure at 0x7f71bac59f98>"
      ]
     },
     "metadata": {},
     "output_type": "display_data"
    }
   ],
   "source": [
    "df = pd.io.sql.read_sql_query('SELECT ccode, per_person FROM per_person WHERE per_person > 0 ORDER BY per_person DESC limit 12', conn)\n",
    "df['name'] = df['ccode'].map(lambda ccode: d[str(ccode)])\n",
    "ax = df.plot.bar(x='ccode', y='per_person')\n",
    "ax.set_title('THE 10 BIGGEST NET INCOME PER PERSON')\n",
    "ax.set_xlabel('Companies on stock market')\n",
    "ax.set_ylabel('Million Japanese Yen')"
   ]
  },
  {
   "cell_type": "code",
   "execution_count": 191,
   "metadata": {
    "collapsed": true
   },
   "outputs": [],
   "source": [
    "conn.close()"
   ]
  }
 ],
 "metadata": {},
 "nbformat": 4,
 "nbformat_minor": 2
}
